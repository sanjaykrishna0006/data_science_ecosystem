{
 "cells": [
  {
   "cell_type": "markdown",
   "metadata": {},
   "source": [
    "<center>\n",
    "    <img src=\"https://cf-courses-data.s3.us.cloud-object-storage.appdomain.cloud/IBMDeveloperSkillsNetwork-DS0105EN-SkillsNetwork/labs/Module2/images/SN_web_lightmode.png\" width=\"300\" alt=\"cognitiveclass.ai logo\">\n",
    "</center>\n"
   ]
  },
  {
   "cell_type": "markdown",
   "metadata": {
    "tags": []
   },
   "source": [
    "# Data Science Tools and Ecosystem\n"
   ]
  },
  {
   "cell_type": "markdown",
   "metadata": {},
   "source": [
    "### In this notebook, Data Science Tools and Ecosystem are summarized.\n",
    "\n",
    "### Objectives:\n",
    "\n",
    "##### 1. list popular languages that Data Scientists use.\n",
    "##### 2. List commonly used libraries used by Data Scientists.\n",
    "##### 3. Comment on Data Science tools."
   ]
  },
  {
   "cell_type": "markdown",
   "metadata": {
    "jp-MarkdownHeadingCollapsed": true,
    "tags": []
   },
   "source": [
    "## Some of the popular languages that Data Scientists use are:\n",
    "\n",
    "#### 1.Python.\n",
    "#### 2.R\n",
    "#### 3.SQL.\n",
    "#### 4.Julia.\n",
    "#### 5.Scala.\n",
    "#### 6.Java.\n",
    "#### 7.C/C++.\n",
    "#### 8.JavaScript."
   ]
  },
  {
   "cell_type": "markdown",
   "metadata": {},
   "source": [
    "## Some of the commonly used libraries used by Data Scientists include:\n",
    "\n",
    "#### 1. TensorFlow\n",
    "#### 2. NumPy\n",
    "#### 3. SciPy\n",
    "#### 4. Pandas\n",
    "#### 5. Matplotlib\n",
    "#### 6. Keras\n",
    "#### 7. SciKit-Learn\n",
    "#### 8. PyTorch\n",
    "#### 9. Scrapy\n",
    "#### 10. BeautifulSoup\n",
    "#### 11. LightGBM\n",
    "#### 12. ELI5\n",
    "#### 13. Theano\n",
    "#### 14. NuPIC\n",
    "#### 15. Ramp\n",
    "#### 16. Pipenv\n",
    "#### 17. Bob\n",
    "#### 18. PyBrain\n",
    "#### 19. Caffe2\n",
    "#### 20. Chainer"
   ]
  },
  {
   "cell_type": "markdown",
   "metadata": {},
   "source": [
    "## Tools Used In Data Science"
   ]
  },
  {
   "cell_type": "markdown",
   "metadata": {
    "tags": []
   },
   "source": [
    "|S.No.|Tool used in Data Science|\n",
    "| --- | ------- |\n",
    "|1| SAS(Statistical Analysis System)|\n",
    "|2| Apache Spark|\n",
    "|3| BigML|\n",
    "|4| SQL|\n",
    "|5| RStudio|\n",
    "|6| Knime|\n",
    "|7| Python|\n",
    "|8| PowerBI|\n",
    "|9| RapidMiner|\n",
    "|10| Jupyter|\n",
    "|11| Matplotlib|\n",
    "|12| Tableau|\n",
    "|13| TensorFlow|\n",
    "|14| Google Analytics|\n",
    "|15| Apache Flink|\n"
   ]
  },
  {
   "cell_type": "markdown",
   "metadata": {},
   "source": [
    "## Examples of Arithmetic Expressions in Python"
   ]
  },
  {
   "cell_type": "code",
   "execution_count": 3,
   "metadata": {
    "tags": []
   },
   "outputs": [
    {
     "data": {
      "text/plain": [
       "13"
      ]
     },
     "execution_count": 3,
     "metadata": {},
     "output_type": "execute_result"
    }
   ],
   "source": [
    "# Arithmetic operations\n",
    "code = compile(\"4 + 9\", \"<string>\", \"eval\")\n",
    "eval(code)\n",
    "# Result: 13"
   ]
  },
  {
   "cell_type": "code",
   "execution_count": 5,
   "metadata": {
    "tags": []
   },
   "outputs": [
    {
     "data": {
      "text/plain": [
       "33510.32163829113"
      ]
     },
     "execution_count": 5,
     "metadata": {},
     "output_type": "execute_result"
    }
   ],
   "source": [
    "import math\n",
    "# Volume of a sphere\n",
    "code2 = compile(\"4 / 3 * math.pi * math.pow(20, 3)\", \"<string>\", \"eval\")\n",
    "eval(code2)\n",
    "# Result: 33510.32163829113"
   ]
  },
  {
   "cell_type": "markdown",
   "metadata": {},
   "source": [
    "### To Multiply and add Numbers"
   ]
  },
  {
   "cell_type": "code",
   "execution_count": 6,
   "metadata": {
    "tags": []
   },
   "outputs": [
    {
     "data": {
      "text/plain": [
       "40"
      ]
     },
     "execution_count": 6,
     "metadata": {},
     "output_type": "execute_result"
    }
   ],
   "source": [
    "(6*5)+10\n",
    "# Result : 40"
   ]
  },
  {
   "cell_type": "markdown",
   "metadata": {},
   "source": [
    "### Convert Minutes into Hours"
   ]
  },
  {
   "cell_type": "code",
   "execution_count": 10,
   "metadata": {
    "tags": []
   },
   "outputs": [
    {
     "name": "stdout",
     "output_type": "stream",
     "text": [
      "150 minutes is equal to 2.5 hours.\n"
     ]
    }
   ],
   "source": [
    "def convert_minutes_to_hours(minutes):\n",
    "    hours = minutes / 60\n",
    "    return hours\n",
    "\n",
    "# Example usage\n",
    "minutes = 150\n",
    "hours = convert_minutes_to_hours(minutes)\n",
    "print(f\"{minutes} minutes is equal to {hours} hours.\")"
   ]
  },
  {
   "cell_type": "markdown",
   "metadata": {},
   "source": [
    "## Objectives :\n",
    "\n",
    "#### 1. Understand the different components of the data science ecosystem, including data, tools, and infrastructure.\n",
    "#### 2. Learn about the different types of data science tools, such as programming languages, libraries, and frameworks.\n",
    "#### 3. Gain hands-on experience using popular data science tools, such as Jupyter Notebooks, RStudio, and Python.\n",
    "#### 4. Develop an understanding of the different ways to store and manage data, such as databases and cloud storage.\n",
    "#### 5. Learn about the different ways to visualize data, using tools such as NumPy, Pandas, Matplotlib and Seaborn.\n",
    "#### 6. Be able to use data science tools to solve real-world problems."
   ]
  },
  {
   "cell_type": "markdown",
   "metadata": {},
   "source": [
    "## Author:\n",
    "### SANJAY KRISHNA MATHESWARAN"
   ]
  }
 ],
 "metadata": {
  "kernelspec": {
   "display_name": "Python 3 (ipykernel)",
   "language": "python",
   "name": "python3"
  },
  "language_info": {
   "codemirror_mode": {
    "name": "ipython",
    "version": 3
   },
   "file_extension": ".py",
   "mimetype": "text/x-python",
   "name": "python",
   "nbconvert_exporter": "python",
   "pygments_lexer": "ipython3",
   "version": "3.10.9"
  }
 },
 "nbformat": 4,
 "nbformat_minor": 4
}
